{
 "cells": [
  {
   "cell_type": "code",
   "execution_count": 3,
   "metadata": {},
   "outputs": [
    {
     "name": "stdout",
     "output_type": "stream",
     "text": [
      "Enter marks of English: 84\n",
      "Enter marks of Urdu: 75\n",
      "Enter marks of Maths: 69\n",
      "Enter marks of Science: 48\n",
      "Enter marks of Islamiyat: 75\n",
      "Marksheet\n",
      "Total Marks: 351\n",
      "Persentage: 70.2\n",
      "Grade: A\n"
     ]
    }
   ],
   "source": [
    "eng = int(input(\"Enter marks of English: \"))\n",
    "urdu = int(input(\"Enter marks of Urdu: \"))\n",
    "math = int(input(\"Enter marks of Maths: \"))\n",
    "sci = int(input(\"Enter marks of Science: \"))\n",
    "isl = int(input(\"Enter marks of Islamiyat: \"))\n",
    "total = eng + urdu + math + sci + isl\n",
    "per = (total * 100)/500\n",
    "if per >= 80 and per <=100 :\n",
    "    grade = \"A+\"\n",
    "elif per >= 70 and per <80 :\n",
    "    grade = \"A\"\n",
    "elif per >= 60 and per <70 :\n",
    "    grade = \"B\"\n",
    "elif per >= 50 and per <60 :\n",
    "    grade = \"C\"\n",
    "elif per >= 40 and per <50 :\n",
    "    grade = \"D\"\n",
    "elif per >= 33 and per <40 :\n",
    "    grade = \"E\"\n",
    "else :\n",
    "    grade = \"Fail\"\n",
    "print(\"Marksheet\")\n",
    "print(\"Total Marks: \" + str(total))\n",
    "print(\"Persentage: \" + str(per))\n",
    "print(\"Grade: \" + grade)"
   ]
  },
  {
   "cell_type": "code",
   "execution_count": null,
   "metadata": {},
   "outputs": [],
   "source": []
  }
 ],
 "metadata": {
  "kernelspec": {
   "display_name": "Python 3",
   "language": "python",
   "name": "python3"
  },
  "language_info": {
   "codemirror_mode": {
    "name": "ipython",
    "version": 3
   },
   "file_extension": ".py",
   "mimetype": "text/x-python",
   "name": "python",
   "nbconvert_exporter": "python",
   "pygments_lexer": "ipython3",
   "version": "3.7.4"
  }
 },
 "nbformat": 4,
 "nbformat_minor": 2
}
